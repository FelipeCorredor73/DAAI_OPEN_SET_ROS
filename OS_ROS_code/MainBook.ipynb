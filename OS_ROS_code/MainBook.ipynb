{
  "nbformat": 4,
  "nbformat_minor": 0,
  "metadata": {
    "colab": {
      "name": "MainBook.ipynb",
      "provenance": []
    },
    "kernelspec": {
      "name": "python3",
      "display_name": "Python 3"
    },
    "language_info": {
      "name": "python"
    },
    "accelerator": "GPU"
  },
  "cells": [
    {
      "cell_type": "markdown",
      "source": [
        "**Mount Drive**"
      ],
      "metadata": {
        "id": "oz3H4ms4iCO2"
      }
    },
    {
      "cell_type": "code",
      "execution_count": 2,
      "metadata": {
        "colab": {
          "base_uri": "https://localhost:8080/"
        },
        "id": "usveqd_SedfT",
        "outputId": "97b3dd16-b90e-416f-8e2e-453ecc23e73f"
      },
      "outputs": [
        {
          "output_type": "stream",
          "name": "stdout",
          "text": [
            "Mounted at /content/drive\n"
          ]
        }
      ],
      "source": [
        "from google.colab import drive\n",
        "drive.mount ('/content/drive')"
      ]
    },
    {
      "cell_type": "markdown",
      "source": [
        "**Set up working directory**"
      ],
      "metadata": {
        "id": "1r6MdmG3iAhG"
      }
    },
    {
      "cell_type": "code",
      "source": [
        "WDIR = '/content/drive/MyDrive/OpenSet_ROS'"
      ],
      "metadata": {
        "id": "-n25SRTiiBcF"
      },
      "execution_count": 11,
      "outputs": []
    },
    {
      "cell_type": "markdown",
      "source": [
        "**Git Clonning**"
      ],
      "metadata": {
        "id": "11_iTLdYiB4T"
      }
    },
    {
      "cell_type": "code",
      "source": [
        "import os\n",
        "import shutil\n",
        "\n",
        "PathOS = WDIR+'/DAAI_OPEN_SET_ROS/OS_ROS_code'\n",
        "# If directory doesn't exist it will be created with the following cloning\n",
        "# and moved into the selected working directory\n",
        "if not os.path.isdir(PathOS):\n",
        "    !git clone https://github.com/FelipeCorredor73/DAAI_OPEN_SET_ROS.git\n",
        "    shutil.move('DAAI_OPEN_SET_ROS', WDIR)"
      ],
      "metadata": {
        "id": "r3aIEk8BiDDi"
      },
      "execution_count": 12,
      "outputs": []
    },
    {
      "cell_type": "markdown",
      "source": [
        "Load dataset (if required)"
      ],
      "metadata": {
        "id": "jOk9vmyBiqwk"
      }
    },
    {
      "cell_type": "code",
      "source": [
        "from zipfile import ZipFile as ZIP\n",
        "\n",
        "PathData = PathOS+'/data'\n",
        "PathOH = PathOS+'/data/OfficeHome/'\n",
        "PathZip = WDIR+'/OfficeHome.zip'\n",
        "if not os.path.isdir(PathOH):\n",
        "    !unzip -u {PathZip} -d {PathData+'/'}\n",
        "    !mv {PathData+'/OfficeHomeDataset_10072016'} {PathData+'/OfficeHome'}\n",
        "\n",
        "!mv {PathData+'/OfficeHome/Real World'} {PathData+'/OfficeHome/RealWorld'}"
      ],
      "metadata": {
        "colab": {
          "base_uri": "https://localhost:8080/"
        },
        "id": "LpT8fPZZiq-E",
        "outputId": "ca4561ef-8f3a-4f73-c9b4-f37d5a2fbc23"
      },
      "execution_count": 16,
      "outputs": [
        {
          "output_type": "stream",
          "name": "stdout",
          "text": [
            "mv: cannot stat '/content/drive/MyDrive/OpenSet_ROS/DAAI_OPEN_SET_ROS/OS_ROS_code/data/OfficeHome/Real': No such file or directory\n",
            "mv: cannot stat 'World': No such file or directory\n"
          ]
        }
      ]
    },
    {
      "cell_type": "markdown",
      "source": [
        "**New text lists folder**"
      ],
      "metadata": {
        "id": "xW64Bngcmcs5"
      }
    },
    {
      "cell_type": "code",
      "source": [
        "PathNTL = PathOS+'/new_txt_list'\n",
        "if not os.path.isdir(PathNTL):\n",
        "    os.mkdir(PathNTL)"
      ],
      "metadata": {
        "id": "zDfDagbomcIb"
      },
      "execution_count": 17,
      "outputs": []
    },
    {
      "cell_type": "markdown",
      "source": [
        "**Running the Open Set project**"
      ],
      "metadata": {
        "id": "nCoDjIWamoNk"
      }
    },
    {
      "cell_type": "code",
      "source": [
        "!pwd\n",
        "%cd {PathOS}\n",
        "File = PathOS+'/main.py'\n",
        "\n",
        "!python {File} --path_dataset {PathData+'/'} --weight_RotTask_step1 1.5 --weight_RotTask_step2 1.5 --threshold -0.4 --weight_Center_Loss 0 --source 'Art' --target 'Clipart' --batch_size 32 --epochs_step1 12 --epochs_step2 12 --learning_rate 0.001\n"
      ],
      "metadata": {
        "colab": {
          "base_uri": "https://localhost:8080/"
        },
        "id": "MPAfy83HmnwJ",
        "outputId": "07f15aa5-b14f-4b09-96b1-e7fd18a9d828"
      },
      "execution_count": null,
      "outputs": [
        {
          "output_type": "stream",
          "name": "stdout",
          "text": [
            "/content/drive/MyDrive/Colab/OpenSet_ROS/DAAI_OPEN_SET_ROS/OS_ROS_code\n",
            "/content/drive/.shortcut-targets-by-id/1G9766JLvrEqdzdcF7SM6eZSwvoe6POEP/OpenSet_ROS/DAAI_OPEN_SET_ROS/OS_ROS_code\n",
            "Args obtained\n",
            "/usr/local/lib/python3.7/dist-packages/torch/utils/data/dataloader.py:481: UserWarning: This DataLoader will create 4 worker processes in total. Our suggested max number of worker in current system is 2, which is smaller than what this DataLoader is going to create. Please be aware that excessive worker creation might get DataLoader running slow or even freeze, lower the worker number to avoid potential slowness/freeze if necessary.\n",
            "  cpuset_checked))\n",
            "Source:  Art  Target:  Clipart\n",
            "Dataset size: source 1789, target 4365\n",
            "Batch size:  32\n",
            "Openness: 0.307692\n",
            "Rotation task 1 at step 1: 1.500000\n",
            "Rotation task 2 at step 1: 1.500000\n",
            "Known/Unknown separation threshold: -0.400000\n",
            "Learning rate: 0.001000\n",
            "+ Step 1 --------------------------------------------\n",
            "Step size: 9\n",
            "   Epoch:  0\n",
            "/content/drive/.shortcut-targets-by-id/1G9766JLvrEqdzdcF7SM6eZSwvoe6POEP/OpenSet_ROS/DAAI_OPEN_SET_ROS/OS_ROS_code/center_loss.py:34: UserWarning: This overload of addmm_ is deprecated:\n",
            "\taddmm_(Number beta, Number alpha, Tensor mat1, Tensor mat2)\n",
            "Consider using one of the following signatures instead:\n",
            "\taddmm_(Tensor mat1, Tensor mat2, *, Number beta, Number alpha) (Triggered internally at  ../torch/csrc/utils/python_arg_parser.cpp:1050.)\n",
            "  distmat.addmm_(1, -2, x, self.centers.t())\n",
            "   Correct class predictions 327 of 1789.0\n",
            "   Correct rot predictions 496 of 1789.0\n",
            "   Class Loss 2.9121, Class Accuracy 18.2784,Rot Loss 1.3491, Rot Accuracy 27.7250, Center-Loss 1207.9375\n",
            "   Epoch:  1\n",
            "   Correct class predictions 824 of 1789.0\n",
            "   Correct rot predictions 657 of 1789.0\n",
            "   Class Loss 1.8189, Class Accuracy 46.0592,Rot Loss 1.2834, Rot Accuracy 36.7244, Center-Loss 1234.3600\n",
            "   Epoch:  2\n",
            "   Correct class predictions 1032 of 1789.0\n",
            "   Correct rot predictions 832 of 1789.0\n",
            "   Class Loss 1.7030, Class Accuracy 57.6859,Rot Loss 0.8316, Rot Accuracy 46.5064, Center-Loss 1230.0100\n",
            "   Epoch:  3\n",
            "   Correct class predictions 1219 of 1789.0\n",
            "   Correct rot predictions 939 of 1789.0\n",
            "   Class Loss 1.3992, Class Accuracy 68.1386,Rot Loss 1.2040, Rot Accuracy 52.4874, Center-Loss 1242.8979\n",
            "   Epoch:  4\n",
            "   Correct class predictions 1290 of 1789.0\n",
            "   Correct rot predictions 1058 of 1789.0\n",
            "   Class Loss 1.2806, Class Accuracy 72.1073,Rot Loss 0.8930, Rot Accuracy 59.1392, Center-Loss 1268.9020\n",
            "   Epoch:  5\n",
            "   Correct class predictions 1387 of 1789.0\n",
            "   Correct rot predictions 1101 of 1789.0\n",
            "   Class Loss 0.9625, Class Accuracy 77.5294,Rot Loss 0.6169, Rot Accuracy 61.5428, Center-Loss 1265.5511\n",
            "   Epoch:  6\n",
            "   Correct class predictions 1461 of 1789.0\n",
            "   Correct rot predictions 1196 of 1789.0\n",
            "   Class Loss 1.0324, Class Accuracy 81.6657,Rot Loss 0.7732, Rot Accuracy 66.8530, Center-Loss 1235.5480\n",
            "   Epoch:  7\n"
          ]
        }
      ]
    }
  ]
}